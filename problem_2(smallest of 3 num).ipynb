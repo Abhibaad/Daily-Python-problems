{
 "cells": [
  {
   "cell_type": "code",
   "execution_count": 1,
   "metadata": {},
   "outputs": [
    {
     "name": "stdout",
     "output_type": "stream",
     "text": [
      "Smallest Number is a : 378\n"
     ]
    }
   ],
   "source": [
    "#program to find minimum of three numbers \n",
    "\n",
    "a=int(input('enter first number'))\n",
    "b=int(input('enter second number'))\n",
    "c=int(input('enter third number '))\n",
    "\n",
    "#condition to check smallest number \n",
    "\n",
    "if a<b and a<c:\n",
    "  print('Smallest Number is a :',a)\n",
    "elif b<c:\n",
    "  print('smallest number is b:',b)\n",
    "else:\n",
    "  print('smallest number is c:', c)"
   ]
  }
 ],
 "metadata": {
  "kernelspec": {
   "display_name": "Python 3",
   "language": "python",
   "name": "python3"
  },
  "language_info": {
   "codemirror_mode": {
    "name": "ipython",
    "version": 3
   },
   "file_extension": ".py",
   "mimetype": "text/x-python",
   "name": "python",
   "nbconvert_exporter": "python",
   "pygments_lexer": "ipython3",
   "version": "3.12.5"
  }
 },
 "nbformat": 4,
 "nbformat_minor": 2
}
